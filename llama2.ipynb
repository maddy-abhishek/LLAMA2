{
 "cells": [
  {
   "cell_type": "code",
   "execution_count": null,
   "source": [
    "from langchain_community.document_loaders import PyPDFLoader\r\n",
    "loader = PyPDFLoader(\"attention.pdf\")\r\n",
    "docs = loader.load()\r\n",
    "docs"
   ],
   "outputs": [],
   "metadata": {}
  },
  {
   "cell_type": "code",
   "execution_count": null,
   "source": [
    "from langchain.text_splitter import RecursiveCharacterTextSplitter\r\n",
    "\r\n",
    "text_splitter = RecursiveCharacterTextSplitter(chunk_size=1000, chunk_overlap=20)\r\n",
    "text_splitter.split_documents(docs)[:5]"
   ],
   "outputs": [],
   "metadata": {}
  },
  {
   "cell_type": "code",
   "execution_count": null,
   "source": [
    "documents=text_splitter.split_documents(docs)\r\n",
    "documents"
   ],
   "outputs": [],
   "metadata": {}
  },
  {
   "cell_type": "code",
   "execution_count": null,
   "source": [
    "from langchain_community.embeddings import OpenAIEmbeddings\r\n",
    "from langchain_community.embeddings import OllamaEmbeddings\r\n",
    "from langchain_community.vectorstores import FAISS\r\n",
    "\r\n",
    "db=FAISS.from_documents(documents[:30],OpenAIEmbeddings())"
   ],
   "outputs": [],
   "metadata": {}
  },
  {
   "cell_type": "code",
   "execution_count": null,
   "source": [
    "db"
   ],
   "outputs": [],
   "metadata": {}
  },
  {
   "cell_type": "code",
   "execution_count": null,
   "source": [
    "query=\"An attention function can be described as mapping a query \"\r\n",
    "result=db.similarity_search(query)\r\n",
    "result[0].page_content"
   ],
   "outputs": [],
   "metadata": {}
  },
  {
   "cell_type": "code",
   "execution_count": null,
   "source": [
    "from langchain_community.llms import Ollama\r\n",
    "## Load Ollama LAMA2 LLM model\r\n",
    "llm=Ollama(model=\"llama2\")\r\n",
    "llm"
   ],
   "outputs": [],
   "metadata": {}
  },
  {
   "cell_type": "code",
   "execution_count": null,
   "source": [
    "## Design ChatPrompt Template\r\n",
    "from langchain_core.prompts import ChatPromptTemplate\r\n",
    "prompt = ChatPromptTemplate.from_template(\"\"\"\r\n",
    "Answer the following question based only on the provided context. \r\n",
    "Think step by step before providing a detailed answer. \r\n",
    "I will tip you $1000 if the user finds the answer helpful. \r\n",
    "<context>\r\n",
    "{context}\r\n",
    "</context>\r\n",
    "Question: {input}\"\"\")"
   ],
   "outputs": [],
   "metadata": {}
  },
  {
   "cell_type": "code",
   "execution_count": null,
   "source": [
    "## Chain Introduction\r\n",
    "## Create Stuff Docment Chain\r\n",
    "\r\n",
    "from langchain.chains.combine_documents import create_stuff_documents_chain\r\n",
    "\r\n",
    "document_chain=create_stuff_documents_chain(llm,prompt)"
   ],
   "outputs": [],
   "metadata": {}
  },
  {
   "cell_type": "code",
   "execution_count": null,
   "source": [
    "\"\"\"\r\n",
    "Retrievers: A retriever is an interface that returns documents given\r\n",
    " an unstructured query. It is more general than a vector store.\r\n",
    " A retriever does not need to be able to store documents, only to \r\n",
    " return (or retrieve) them. Vector stores can be used as the backbone\r\n",
    " of a retriever, but there are other types of retrievers as well. \r\n",
    " https://python.langchain.com/docs/modules/data_connection/retrievers/   \r\n",
    "\"\"\"\r\n",
    "\r\n",
    "retriever=db.as_retriever()\r\n",
    "retriever"
   ],
   "outputs": [],
   "metadata": {}
  },
  {
   "cell_type": "code",
   "execution_count": null,
   "source": [
    "\"\"\"\r\n",
    "Retrieval chain:This chain takes in a user inquiry, which is then\r\n",
    "passed to the retriever to fetch relevant documents. Those documents \r\n",
    "(and original inputs) are then passed to an LLM to generate a response\r\n",
    "https://python.langchain.com/docs/modules/chains/\r\n",
    "\"\"\"\r\n",
    "from langchain.chains import create_retrieval_chain\r\n",
    "retrieval_chain=create_retrieval_chain(retriever,document_chain)"
   ],
   "outputs": [],
   "metadata": {}
  },
  {
   "cell_type": "code",
   "execution_count": null,
   "source": [
    "response=retrieval_chain.invoke({\"input\":\"Scaled Dot-Product Attention\"})"
   ],
   "outputs": [],
   "metadata": {}
  },
  {
   "cell_type": "code",
   "execution_count": null,
   "source": [
    "response['answer']"
   ],
   "outputs": [],
   "metadata": {}
  }
 ],
 "metadata": {
  "orig_nbformat": 4,
  "language_info": {
   "name": "python"
  }
 },
 "nbformat": 4,
 "nbformat_minor": 2
}